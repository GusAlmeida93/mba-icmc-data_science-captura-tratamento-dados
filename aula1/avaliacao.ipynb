{
 "cells": [
  {
   "cell_type": "code",
   "execution_count": 18,
   "metadata": {},
   "outputs": [],
   "source": [
    "import pandas as pd\n",
    "import seaborn as sns"
   ]
  },
  {
   "cell_type": "code",
   "execution_count": 4,
   "metadata": {},
   "outputs": [],
   "source": [
    "df = pd.read_csv('../dados/TACTD-01-Base.csv')"
   ]
  },
  {
   "cell_type": "code",
   "execution_count": 13,
   "metadata": {},
   "outputs": [
    {
     "data": {
      "text/plain": [
       "array(['Buddhist', 'Christian', '----', nan, 'Jew', 'd', '[', '1', 'Ac%#'],\n",
       "      dtype=object)"
      ]
     },
     "execution_count": 13,
     "metadata": {},
     "output_type": "execute_result"
    }
   ],
   "source": [
    "df['Religion'].unique()"
   ]
  },
  {
   "cell_type": "code",
   "execution_count": 14,
   "metadata": {},
   "outputs": [
    {
     "data": {
      "text/plain": [
       "Christian    87\n",
       "Buddhist      5\n",
       "Jew           4\n",
       "----          1\n",
       "d             1\n",
       "[             1\n",
       "1             1\n",
       "Ac%#          1\n",
       "Name: Religion, dtype: int64"
      ]
     },
     "execution_count": 14,
     "metadata": {},
     "output_type": "execute_result"
    }
   ],
   "source": [
    "df['Religion'].value_counts()"
   ]
  },
  {
   "cell_type": "code",
   "execution_count": 17,
   "metadata": {},
   "outputs": [
    {
     "data": {
      "text/html": [
       "<div>\n",
       "<style scoped>\n",
       "    .dataframe tbody tr th:only-of-type {\n",
       "        vertical-align: middle;\n",
       "    }\n",
       "\n",
       "    .dataframe tbody tr th {\n",
       "        vertical-align: top;\n",
       "    }\n",
       "\n",
       "    .dataframe thead th {\n",
       "        text-align: right;\n",
       "    }\n",
       "</style>\n",
       "<table border=\"1\" class=\"dataframe\">\n",
       "  <thead>\n",
       "    <tr style=\"text-align: right;\">\n",
       "      <th></th>\n",
       "      <th>Name</th>\n",
       "      <th>Sex</th>\n",
       "      <th>Year of Birth</th>\n",
       "      <th>Country of Residency</th>\n",
       "      <th>Religion</th>\n",
       "      <th>City</th>\n",
       "      <th>Profession</th>\n",
       "      <th>Years of Experience</th>\n",
       "      <th>Salary</th>\n",
       "      <th>Year first employment</th>\n",
       "    </tr>\n",
       "  </thead>\n",
       "  <tbody>\n",
       "    <tr>\n",
       "      <th>3</th>\n",
       "      <td>Amelia Caldwell</td>\n",
       "      <td>F</td>\n",
       "      <td>1977</td>\n",
       "      <td>Scotland</td>\n",
       "      <td>NaN</td>\n",
       "      <td>Edinburgh</td>\n",
       "      <td>Nurse</td>\n",
       "      <td>10.0</td>\n",
       "      <td>50602.8</td>\n",
       "      <td>2011.0</td>\n",
       "    </tr>\n",
       "    <tr>\n",
       "      <th>29</th>\n",
       "      <td>Erica Hudson</td>\n",
       "      <td>F</td>\n",
       "      <td>1980</td>\n",
       "      <td>Brazil</td>\n",
       "      <td>NaN</td>\n",
       "      <td>Santo André</td>\n",
       "      <td>Nurse</td>\n",
       "      <td>10.0</td>\n",
       "      <td>56254.8</td>\n",
       "      <td>2011.0</td>\n",
       "    </tr>\n",
       "    <tr>\n",
       "      <th>73</th>\n",
       "      <td>Norah Carey</td>\n",
       "      <td>F</td>\n",
       "      <td>1961</td>\n",
       "      <td>Scotland</td>\n",
       "      <td>NaN</td>\n",
       "      <td>Edinburgh</td>\n",
       "      <td>Nurse</td>\n",
       "      <td>31.0</td>\n",
       "      <td>47425.1</td>\n",
       "      <td>1990.0</td>\n",
       "    </tr>\n",
       "    <tr>\n",
       "      <th>81</th>\n",
       "      <td>Ricardo Rima</td>\n",
       "      <td>M</td>\n",
       "      <td>1977</td>\n",
       "      <td>Peru</td>\n",
       "      <td>NaN</td>\n",
       "      <td>Arequipa</td>\n",
       "      <td>Nurse</td>\n",
       "      <td>16.0</td>\n",
       "      <td>39000.0</td>\n",
       "      <td>2005.0</td>\n",
       "    </tr>\n",
       "  </tbody>\n",
       "</table>\n",
       "</div>"
      ],
      "text/plain": [
       "               Name Sex  Year of Birth Country of Residency Religion  \\\n",
       "3   Amelia Caldwell   F           1977             Scotland      NaN   \n",
       "29     Erica Hudson   F           1980               Brazil      NaN   \n",
       "73      Norah Carey   F           1961             Scotland      NaN   \n",
       "81     Ricardo Rima   M           1977                 Peru      NaN   \n",
       "\n",
       "           City Profession  Years of Experience   Salary  \\\n",
       "3     Edinburgh      Nurse                 10.0  50602.8   \n",
       "29  Santo André      Nurse                 10.0  56254.8   \n",
       "73    Edinburgh      Nurse                 31.0  47425.1   \n",
       "81     Arequipa      Nurse                 16.0  39000.0   \n",
       "\n",
       "    Year first employment  \n",
       "3                  2011.0  \n",
       "29                 2011.0  \n",
       "73                 1990.0  \n",
       "81                 2005.0  "
      ]
     },
     "execution_count": 17,
     "metadata": {},
     "output_type": "execute_result"
    }
   ],
   "source": [
    "df[df['Religion'].isna()]"
   ]
  },
  {
   "cell_type": "code",
   "execution_count": 19,
   "metadata": {},
   "outputs": [
    {
     "name": "stderr",
     "output_type": "stream",
     "text": [
      "/home/gustavoalmeida/code/mba-icmc-data_science-captura-tratamento-dados/venv/lib/python3.8/site-packages/seaborn/_decorators.py:36: FutureWarning: Pass the following variable as a keyword arg: x. From version 0.12, the only valid positional argument will be `data`, and passing other arguments without an explicit keyword will result in an error or misinterpretation.\n",
      "  warnings.warn(\n"
     ]
    },
    {
     "data": {
      "text/plain": [
       "<AxesSubplot:xlabel='Salary'>"
      ]
     },
     "execution_count": 19,
     "metadata": {},
     "output_type": "execute_result"
    },
    {
     "data": {
      "image/png": "[encoded data removed]",
      "text/plain": [
       "<Figure size 432x288 with 1 Axes>"
      ]
     },
     "metadata": {
      "needs_background": "light"
     },
     "output_type": "display_data"
    }
   ],
   "source": [
    "sns.boxplot(df['Salary'])"
   ]
  },
  {
   "cell_type": "code",
   "execution_count": 22,
   "metadata": {},
   "outputs": [
    {
     "data": {
      "text/html": [
       "<div>\n",
       "<style scoped>\n",
       "    .dataframe tbody tr th:only-of-type {\n",
       "        vertical-align: middle;\n",
       "    }\n",
       "\n",
       "    .dataframe tbody tr th {\n",
       "        vertical-align: top;\n",
       "    }\n",
       "\n",
       "    .dataframe thead th {\n",
       "        text-align: right;\n",
       "    }\n",
       "</style>\n",
       "<table border=\"1\" class=\"dataframe\">\n",
       "  <thead>\n",
       "    <tr style=\"text-align: right;\">\n",
       "      <th></th>\n",
       "      <th>Name</th>\n",
       "      <th>Sex</th>\n",
       "      <th>Year of Birth</th>\n",
       "      <th>Country of Residency</th>\n",
       "      <th>Religion</th>\n",
       "      <th>City</th>\n",
       "      <th>Profession</th>\n",
       "      <th>Years of Experience</th>\n",
       "      <th>Salary</th>\n",
       "      <th>Year first employment</th>\n",
       "    </tr>\n",
       "  </thead>\n",
       "  <tbody>\n",
       "    <tr>\n",
       "      <th>84</th>\n",
       "      <td>Ruby Singleton</td>\n",
       "      <td>F</td>\n",
       "      <td>1982</td>\n",
       "      <td>USA</td>\n",
       "      <td>Christian</td>\n",
       "      <td>New Orleans</td>\n",
       "      <td>Nurse</td>\n",
       "      <td>7.0</td>\n",
       "      <td>41000.0</td>\n",
       "      <td>2014.0</td>\n",
       "    </tr>\n",
       "  </tbody>\n",
       "</table>\n",
       "</div>"
      ],
      "text/plain": [
       "              Name Sex  Year of Birth Country of Residency   Religion  \\\n",
       "84  Ruby Singleton   F           1982                  USA  Christian   \n",
       "\n",
       "           City Profession  Years of Experience   Salary  \\\n",
       "84  New Orleans      Nurse                  7.0  41000.0   \n",
       "\n",
       "    Year first employment  \n",
       "84                 2014.0  "
      ]
     },
     "execution_count": 22,
     "metadata": {},
     "output_type": "execute_result"
    }
   ],
   "source": [
    "df[df.duplicated()]"
   ]
  },
  {
   "cell_type": "code",
   "execution_count": 23,
   "metadata": {},
   "outputs": [
    {
     "data": {
      "text/plain": [
       "1"
      ]
     },
     "execution_count": 23,
     "metadata": {},
     "output_type": "execute_result"
    }
   ],
   "source": [
    "df.duplicated().sum()"
   ]
  },
  {
   "cell_type": "code",
   "execution_count": 24,
   "metadata": {},
   "outputs": [
    {
     "data": {
      "text/html": [
       "<div>\n",
       "<style scoped>\n",
       "    .dataframe tbody tr th:only-of-type {\n",
       "        vertical-align: middle;\n",
       "    }\n",
       "\n",
       "    .dataframe tbody tr th {\n",
       "        vertical-align: top;\n",
       "    }\n",
       "\n",
       "    .dataframe thead th {\n",
       "        text-align: right;\n",
       "    }\n",
       "</style>\n",
       "<table border=\"1\" class=\"dataframe\">\n",
       "  <thead>\n",
       "    <tr style=\"text-align: right;\">\n",
       "      <th></th>\n",
       "      <th>Name</th>\n",
       "      <th>Sex</th>\n",
       "      <th>Year of Birth</th>\n",
       "      <th>Country of Residency</th>\n",
       "      <th>Religion</th>\n",
       "      <th>City</th>\n",
       "      <th>Profession</th>\n",
       "      <th>Years of Experience</th>\n",
       "      <th>Salary</th>\n",
       "      <th>Year first employment</th>\n",
       "    </tr>\n",
       "  </thead>\n",
       "  <tbody>\n",
       "    <tr>\n",
       "      <th>83</th>\n",
       "      <td>Ruby Singleton</td>\n",
       "      <td>F</td>\n",
       "      <td>1982</td>\n",
       "      <td>USA</td>\n",
       "      <td>Christian</td>\n",
       "      <td>New Orleans</td>\n",
       "      <td>Nurse</td>\n",
       "      <td>7.0</td>\n",
       "      <td>41000.0</td>\n",
       "      <td>2014.0</td>\n",
       "    </tr>\n",
       "    <tr>\n",
       "      <th>84</th>\n",
       "      <td>Ruby Singleton</td>\n",
       "      <td>F</td>\n",
       "      <td>1982</td>\n",
       "      <td>USA</td>\n",
       "      <td>Christian</td>\n",
       "      <td>New Orleans</td>\n",
       "      <td>Nurse</td>\n",
       "      <td>7.0</td>\n",
       "      <td>41000.0</td>\n",
       "      <td>2014.0</td>\n",
       "    </tr>\n",
       "  </tbody>\n",
       "</table>\n",
       "</div>"
      ],
      "text/plain": [
       "              Name Sex  Year of Birth Country of Residency   Religion  \\\n",
       "83  Ruby Singleton   F           1982                  USA  Christian   \n",
       "84  Ruby Singleton   F           1982                  USA  Christian   \n",
       "\n",
       "           City Profession  Years of Experience   Salary  \\\n",
       "83  New Orleans      Nurse                  7.0  41000.0   \n",
       "84  New Orleans      Nurse                  7.0  41000.0   \n",
       "\n",
       "    Year first employment  \n",
       "83                 2014.0  \n",
       "84                 2014.0  "
      ]
     },
     "execution_count": 24,
     "metadata": {},
     "output_type": "execute_result"
    }
   ],
   "source": [
    "df[df['Name'] == 'Ruby Singleton']"
   ]
  },
  {
   "cell_type": "code",
   "execution_count": null,
   "metadata": {},
   "outputs": [],
   "source": []
  }
 ],
 "metadata": {
  "interpreter": {
   "hash": "48450c250e5d4ea6472c9af4f006ee4fe7f3eef1b6a45d8a40690c6bb1f9e306"
  },
  "kernelspec": {
   "display_name": "Python 3.8.10 ('venv': venv)",
   "language": "python",
   "name": "python3"
  },
  "language_info": {
   "codemirror_mode": {
    "name": "ipython",
    "version": 3
   },
   "file_extension": ".py",
   "mimetype": "text/x-python",
   "name": "python",
   "nbconvert_exporter": "python",
   "pygments_lexer": "ipython3",
   "version": "3.8.10"
  },
  "orig_nbformat": 4
 },
 "nbformat": 4,
 "nbformat_minor": 2
}
